{
 "cells": [
  {
   "cell_type": "markdown",
   "id": "88afdda6-11bb-4d68-bf75-b5a3ae0db728",
   "metadata": {
    "tags": []
   },
   "source": [
    "# Assignment 1"
   ]
  },
  {
   "cell_type": "markdown",
   "id": "7e4d253b-0eb5-459e-b668-b68191a90cca",
   "metadata": {},
   "source": [
    "Q1. Create one variable containing following type of data:\n",
    "(i) string\n",
    "(ii) list\n",
    "(iii) float\n",
    "(iv) tuple "
   ]
  },
  {
   "cell_type": "code",
   "execution_count": 1,
   "id": "4ff4814f-b023-43b4-a51a-12b249b2e3a5",
   "metadata": {},
   "outputs": [],
   "source": [
    "var1=\"abhishek\"\n",
    "var2=[2,3,'çar',True]\n",
    "var3=4.56\n",
    "var4=(4,56,'tuple',False)"
   ]
  },
  {
   "cell_type": "code",
   "execution_count": 2,
   "id": "c3ea4663-1028-4d60-bd52-89e221354e21",
   "metadata": {},
   "outputs": [
    {
     "data": {
      "text/plain": [
       "str"
      ]
     },
     "execution_count": 2,
     "metadata": {},
     "output_type": "execute_result"
    }
   ],
   "source": [
    "type(var1)"
   ]
  },
  {
   "cell_type": "code",
   "execution_count": 3,
   "id": "f4280c3c-3eff-423d-a700-645f07539973",
   "metadata": {},
   "outputs": [
    {
     "data": {
      "text/plain": [
       "list"
      ]
     },
     "execution_count": 3,
     "metadata": {},
     "output_type": "execute_result"
    }
   ],
   "source": [
    "type(var2)"
   ]
  },
  {
   "cell_type": "code",
   "execution_count": 4,
   "id": "951f7000-976d-46ec-8881-36eeb21cda8d",
   "metadata": {},
   "outputs": [
    {
     "data": {
      "text/plain": [
       "float"
      ]
     },
     "execution_count": 4,
     "metadata": {},
     "output_type": "execute_result"
    }
   ],
   "source": [
    "type(var3)"
   ]
  },
  {
   "cell_type": "code",
   "execution_count": 5,
   "id": "977fbaa4-9dd4-4d08-b701-ab478682e77a",
   "metadata": {},
   "outputs": [
    {
     "data": {
      "text/plain": [
       "tuple"
      ]
     },
     "execution_count": 5,
     "metadata": {},
     "output_type": "execute_result"
    }
   ],
   "source": [
    "type(var4)"
   ]
  },
  {
   "cell_type": "markdown",
   "id": "c030f427-5665-4c77-ba0f-d7f58bc7602d",
   "metadata": {},
   "source": [
    "Q2. Given are some following variables containing data:\n",
    "(i) var1 = ‘ ‘\n",
    "(ii) var2 = ‘[ DS , ML , Python]’\n",
    "(ii) var2 = ‘[ DS , ML , Python]’\n",
    "(iii) var3 = [ ‘DS’ , ’ML’ , ‘Python’ ]\n",
    "(iv) var4 = 1.\n",
    "What will be the data type of the above given variable."
   ]
  },
  {
   "cell_type": "code",
   "execution_count": 6,
   "id": "57f3ac40-a13d-4aa6-b6af-aa3cfc407fa3",
   "metadata": {},
   "outputs": [],
   "source": [
    "var1 = ''\n",
    "var2 = '[ DS , ML , Python]'\n",
    "var3 = [ 'DS' , 'ML', 'Python' ]\n",
    "var4 = 1"
   ]
  },
  {
   "cell_type": "code",
   "execution_count": 7,
   "id": "3fb5a812-7d83-425a-b3c8-97b2def15028",
   "metadata": {},
   "outputs": [
    {
     "data": {
      "text/plain": [
       "str"
      ]
     },
     "execution_count": 7,
     "metadata": {},
     "output_type": "execute_result"
    }
   ],
   "source": [
    "type(var1)"
   ]
  },
  {
   "cell_type": "code",
   "execution_count": 8,
   "id": "964d0559-7f4e-43f1-8f2b-7b3027501604",
   "metadata": {},
   "outputs": [
    {
     "data": {
      "text/plain": [
       "str"
      ]
     },
     "execution_count": 8,
     "metadata": {},
     "output_type": "execute_result"
    }
   ],
   "source": [
    "type(var2)"
   ]
  },
  {
   "cell_type": "code",
   "execution_count": 9,
   "id": "0ad4cb11-3139-4336-b208-fc7b12d91cd1",
   "metadata": {},
   "outputs": [
    {
     "data": {
      "text/plain": [
       "list"
      ]
     },
     "execution_count": 9,
     "metadata": {},
     "output_type": "execute_result"
    }
   ],
   "source": [
    "type(var3)"
   ]
  },
  {
   "cell_type": "code",
   "execution_count": 10,
   "id": "63d3fe13-b81e-48fb-adac-4ee02ea96f80",
   "metadata": {},
   "outputs": [
    {
     "data": {
      "text/plain": [
       "int"
      ]
     },
     "execution_count": 10,
     "metadata": {},
     "output_type": "execute_result"
    }
   ],
   "source": [
    "type(var4)"
   ]
  },
  {
   "cell_type": "markdown",
   "id": "41426056-8e62-4b5d-9e2f-e81298ac34e5",
   "metadata": {},
   "source": [
    "Q3. Explain the use of the following operators using an example:\n",
    "(i) /\n",
    "(ii) %\n",
    "(iii) //\n",
    "(iv) **"
   ]
  },
  {
   "cell_type": "code",
   "execution_count": 16,
   "id": "cf0f2c90-e8aa-4a3d-86c2-690b44a845f9",
   "metadata": {},
   "outputs": [
    {
     "name": "stdout",
     "output_type": "stream",
     "text": [
      "5 / 2 = 2.5\n",
      "5 % 2 = 1\n",
      "5 // 2 = 2\n",
      "5 ** 2 = 25\n"
     ]
    }
   ],
   "source": [
    "print(\"5 / 2 =\",5/2)  #5 is divided by 2\n",
    "print(\"5 % 2 =\",5%2)  #remainder of 5/2 i.e. modulus\n",
    "print(\"5 // 2 =\",5//2)  #divide with integral result (discard remainder)\n",
    "print(\"5 ** 2 =\",5**2)  #5 power of 2"
   ]
  },
  {
   "cell_type": "markdown",
   "id": "bd4de5a0-429e-4e31-b990-3530cf4fd054",
   "metadata": {},
   "source": [
    "Q4. Create a list of length 10 of your choice containing multiple types of data. Using for loop print the\n",
    "element and its data type."
   ]
  },
  {
   "cell_type": "code",
   "execution_count": 17,
   "id": "598852f2-757c-4a92-b4d4-e985a708abc8",
   "metadata": {},
   "outputs": [
    {
     "name": "stdout",
     "output_type": "stream",
     "text": [
      "lst_1[0]= 1 datatype= <class 'int'>\n",
      "lst_1[1]= 12 datatype= <class 'int'>\n",
      "lst_1[2]= 3 datatype= <class 'int'>\n",
      "lst_1[3]= N.A.  datatype= <class 'str'>\n",
      "lst_1[4]= abhi datatype= <class 'str'>\n",
      "lst_1[5]= 3.4 datatype= <class 'float'>\n",
      "lst_1[6]= False datatype= <class 'bool'>\n",
      "lst_1[7]= Z datatype= <class 'str'>\n",
      "lst_1[8]= @ datatype= <class 'str'>\n",
      "lst_1[9]= (1, 2, 3) datatype= <class 'tuple'>\n"
     ]
    }
   ],
   "source": [
    "lst_1=[1,12,3,\"N.A. \",\"abhi\",3.4,False,'Z','@',(1,2,3)]\n",
    "type(lst_1)\n",
    "for i in  range (10) :\n",
    "    print(f\"lst_1[{i}]=\", lst_1[i],\"datatype=\",type(lst_1[i]))"
   ]
  },
  {
   "cell_type": "code",
   "execution_count": null,
   "id": "3ccf242e-33e6-4729-850b-f48f890282b2",
   "metadata": {},
   "outputs": [],
   "source": []
  },
  {
   "cell_type": "markdown",
   "id": "ee0adbdf-8212-400c-96a6-7d09c02870b9",
   "metadata": {},
   "source": [
    "# Q5. Using a while loop, verify if the number A is purely divisible by number B and if so then how many times it can be divisible."
   ]
  },
  {
   "cell_type": "code",
   "execution_count": 18,
   "id": "3cc1afa0-0bbe-4bb6-ad1a-7d3db612e179",
   "metadata": {},
   "outputs": [
    {
     "name": "stdin",
     "output_type": "stream",
     "text": [
      "enter A 5\n",
      "enter B 2\n"
     ]
    },
    {
     "name": "stdout",
     "output_type": "stream",
     "text": [
      "5 is not divisible by 2\n"
     ]
    }
   ],
   "source": [
    "A=int(input(\"enter A\"))\n",
    "B=int(input(\"enter B\"))\n",
    "i=0\n",
    "C=A\n",
    "if A%B != 0:\n",
    "    print(f'{A} is not divisible by {B}')\n",
    "else:\n",
    "    while A%B==0:\n",
    "        i=i+1\n",
    "        A=A/B\n",
    "    print(f\"{C} is purely divisible =>{i} times\")"
   ]
  },
  {
   "cell_type": "markdown",
   "id": "1fd93879-87de-4877-a7cb-c3af13252c98",
   "metadata": {},
   "source": [
    "### Q6. Create a list containing 25 int type data. Using for loop and if-else condition print if the element isdivisible by 3 or not."
   ]
  },
  {
   "cell_type": "code",
   "execution_count": null,
   "id": "5148d6a7-e139-418e-86d8-04f3de72321b",
   "metadata": {},
   "outputs": [],
   "source": [
    "lst=[12,3,45,67,8,9,7,43,4,6,7,8,65,23,31,55,67,88,99,767,4311,987,943,234,456]"
   ]
  },
  {
   "cell_type": "code",
   "execution_count": null,
   "id": "6b8dcf04-8929-4b37-aabd-11e98b79473c",
   "metadata": {},
   "outputs": [],
   "source": [
    "for i in range(len(lst)):\n",
    "    if lst[i]%3==0:\n",
    "        print(f'lst[{i}]={lst[i]} is divisible by 3')\n",
    "    else:\n",
    "        print(f'lst[{i}]={lst[i]} is not divisible by 3')\n",
    "        "
   ]
  },
  {
   "cell_type": "markdown",
   "id": "aedf6d35-408a-4af4-aa23-08433839727f",
   "metadata": {},
   "source": [
    "## Q7. What do you understand about mutable and immutable data types? Give examples for both showing this property."
   ]
  },
  {
   "cell_type": "code",
   "execution_count": null,
   "id": "4c7f3fd4-149b-48ab-8064-a86d1193a8cb",
   "metadata": {},
   "outputs": [],
   "source": [
    "### mutable means elements at particular index can be updated like list,array\n",
    "lst=[1,2,3]\n",
    "print(lst)\n",
    "lst[1]=3\n",
    "print(\"mutable\",lst)\n",
    "### non mutable means whole variable has to change but not elements at any index like string,tupple\n",
    "st=\"abhishek sharma\"\n",
    "print(st)\n",
    "st[1]=3\n",
    "print(st)\n"
   ]
  },
  {
   "cell_type": "code",
   "execution_count": null,
   "id": "dad2a30d-24c0-42ca-99fe-7058ae1151c4",
   "metadata": {},
   "outputs": [],
   "source": []
  }
 ],
 "metadata": {
  "kernelspec": {
   "display_name": "Python 3 (ipykernel)",
   "language": "python",
   "name": "python3"
  },
  "language_info": {
   "codemirror_mode": {
    "name": "ipython",
    "version": 3
   },
   "file_extension": ".py",
   "mimetype": "text/x-python",
   "name": "python",
   "nbconvert_exporter": "python",
   "pygments_lexer": "ipython3",
   "version": "3.10.8"
  }
 },
 "nbformat": 4,
 "nbformat_minor": 5
}
